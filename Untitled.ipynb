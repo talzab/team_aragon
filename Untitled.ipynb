{
 "cells": [
  {
   "cell_type": "markdown",
   "id": "46b63da5",
   "metadata": {},
   "source": [
    "# Hospital Analytics and Reporting"
   ]
  },
  {
   "cell_type": "code",
   "execution_count": null,
   "id": "9dd63597",
   "metadata": {},
   "outputs": [],
   "source": [
    "import psycopg\n",
    "\n",
    "conn = psycopg.connect(\n",
    "    host=\"pinniped.postgres.database.azure.com\", dbname=\"DBNAME\",\n",
    "    user=\"USERNAME\", password=\"PASSWORD\"\n",
    ")"
   ]
  },
  {
   "cell_type": "markdown",
   "id": "3c7e442e",
   "metadata": {},
   "source": [
    "A summary of how many hospital records were loaded in the week selected by the user, and how that compares to previous weeks."
   ]
  },
  {
   "cell_type": "code",
   "execution_count": null,
   "id": "84965580",
   "metadata": {},
   "outputs": [],
   "source": [
    "selected_week = '2022-09-23'\n",
    "\n",
    "cur = conn.cursor()\n",
    "\n",
    "# Execute a query to count records for a selected week\n",
    "cursor.execute(\n",
    "    \"SELECT COUNT(*) FROM hospitalBedInformation WHERE collection_week = ?\", \n",
    "    (selected_week)\n",
    ")\n",
    "records_at_week = cursor.fetchone()[0]\n",
    "\n",
    "# Execute a query to count records for the previous weeks\n",
    "cursor.execute(\n",
    "    \"SELECT COUNT(*) FROM hospitalBedInformation WHERE collection_week < ?\",\n",
    "    (selected_week)\n",
    ")\n",
    "records_previous_weeks = cursor.fetchone()[0]\n",
    "\n",
    "# Display the summary\n",
    "print(f\"Hospital records loaded in the specified week: {records_at_week}\")\n",
    "print(f\"Hospital records loaded in the previous weeks: {records_previous_weeks}\")\n",
    "\n",
    "# Close the cursor and connection\n",
    "cursor.close()\n",
    "conn.close()"
   ]
  },
  {
   "cell_type": "markdown",
   "id": "1a787247",
   "metadata": {},
   "source": [
    "A table summarizing the number of adult and pediatric beds available that week, the number used, and the number used by patients with COVID, compared to the 4 most recent weeks."
   ]
  },
  {
   "cell_type": "code",
   "execution_count": null,
   "id": "8e9b5f7c",
   "metadata": {},
   "outputs": [],
   "source": [
    "\n",
    "cursor = conn.cursor()\n",
    "\n",
    "# Get the start date of the week from user input\n",
    "user_input = input(\"Enter the start date of the week (YYYY-MM-DD): \")\n",
    "try:\n",
    "    start_of_week = datetime.strptime(user_input, \"%Y-%m-%d\")\n",
    "except ValueError:\n",
    "    print(\"Invalid date format. Please use the format YYYY-MM-DD.\")\n",
    "    exit()\n",
    "    \n",
    "# Execute a query to get statistics for the specified week\n",
    "cursor.execute(\n",
    "    \"SELECT * FROM hospitalBedInformation WHERE collection_week = ?\",\n",
    "    (start_of_week)\n",
    ")\n",
    "week_stats = cursor.fetchone()\n",
    "\n",
    "if week_stats is None:\n",
    "    print(\"No statistics found for the specified week.\")\n",
    "    exit()\n",
    "\n",
    "# Execute a query to get statistics for the 4 most recent weeks\n",
    "cursor.execute(\n",
    "    \"SELECT * FROM hospitalBedInformation WHERE collection_week < ? ORDER BY collection_week DESC LIMIT 4\",\n",
    "    (start_of_week,)\n",
    ")\n",
    "recent_weeks_stats = cursor.fetchall()\n",
    "\n",
    "# Display the summary\n",
    "print(\"\\nStatistics for the specified week:\")\n",
    "print(f\"Start Date: {week_stats[1]}\")\n",
    "print(f\"Adult Beds Available: {week_stats[2]}, Pediatric Beds Available: {week_stats[3]}\")\n",
    "print(f\"Beds Used: {week_stats[4]}, Beds Used by COVID Patients: {week_stats[5]}\\n\")\n",
    "\n",
    "print(\"Statistics for the 4 most recent weeks:\")\n",
    "for i, recent_week in enumerate(recent_weeks_stats, start=1):\n",
    "    print(f\"Week {i} - Start Date: {recent_week[1]}\")\n",
    "    print(f\"Adult Beds Available: {recent_week[2]}, Pediatric Beds Available: {recent_week[3]}\")\n",
    "    print(f\"Beds Used: {recent_week[4]}, Beds Used by COVID Patients: {recent_week[5]}\\n\")\n",
    "\n",
    "# Close the cursor and connection\n",
    "cursor.close()\n",
    "conn.close()"
   ]
  },
  {
   "cell_type": "markdown",
   "id": "d2b18825",
   "metadata": {},
   "source": [
    "A graph or table summarizing the fraction of beds in use by hospital quality rating, so we can compare high-quality and low-quality hospitals."
   ]
  },
  {
   "cell_type": "code",
   "execution_count": null,
   "id": "7b4b938f",
   "metadata": {},
   "outputs": [],
   "source": []
  },
  {
   "cell_type": "markdown",
   "id": "94a824fb",
   "metadata": {},
   "source": [
    "A plot of the total number of hospital beds used per week, over all time up to the selected week, split into all cases and COVID cases."
   ]
  },
  {
   "cell_type": "code",
   "execution_count": null,
   "id": "87379b38",
   "metadata": {},
   "outputs": [],
   "source": []
  }
 ],
 "metadata": {
  "kernelspec": {
   "display_name": "Python 3 (ipykernel)",
   "language": "python",
   "name": "python3"
  },
  "language_info": {
   "codemirror_mode": {
    "name": "ipython",
    "version": 3
   },
   "file_extension": ".py",
   "mimetype": "text/x-python",
   "name": "python",
   "nbconvert_exporter": "python",
   "pygments_lexer": "ipython3",
   "version": "3.11.4"
  }
 },
 "nbformat": 4,
 "nbformat_minor": 5
}
