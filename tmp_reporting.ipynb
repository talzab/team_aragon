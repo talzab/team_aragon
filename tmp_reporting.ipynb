{
 "cells": [
  {
   "cell_type": "code",
   "execution_count": null,
   "metadata": {},
   "outputs": [],
   "source": [
    "selected_week = input(\"Select a Week (YYYY-MM-DD): \")\n",
    "\n",
    "cursor = conn.cursor()\n",
    "\n",
    "# Execute a query to count records for the previous weeks\n",
    "cursor.execute(\n",
    "    \"SELECT q.hospital_overall_rating, l.state, q.data_date \\\n",
    "     FROM hospitalqualityinformation as q \\\n",
    "     INNER JOIN hospitallocations as l ON q.facility_id = l.hospital_fk \\\n",
    "     WHERE q.data_date = %s;\",\n",
    "    (selected_week,)\n",
    ")\n",
    "quality_weeks = cursor.fetchall()"
   ]
  },
  {
   "cell_type": "code",
   "execution_count": null,
   "metadata": {},
   "outputs": [],
   "source": [
    "df = pd.DataFrame(quality_weeks, columns=[\"hospital_overall_rating\", \"state\", \"data_date\"])\n",
    "df = df.dropna()\n",
    "\n",
    "df[\"hospital_overall_rating\"] = pd.to_numeric(df[\"hospital_overall_rating\"], errors='coerce')\n",
    "\n",
    "# Calculate the average hospital_overall_rating for each state\n",
    "avg_ratings = df.groupby(\"state\")[\"hospital_overall_rating\"].mean().sort_values(ascending=False)\n",
    "\n",
    "# Get the top 10 and bottom 10 states\n",
    "top_states = avg_ratings.head(10)\n",
    "bottom_states = avg_ratings.tail(10)\n",
    "\n",
    "# Scatter plot for the top 5 states\n",
    "plt.figure(figsize=(10, 6))\n",
    "plt.scatter(top_states.index, top_states.values, color='green', label='Top 10 States', s=100)\n",
    "plt.scatter(bottom_states.index, bottom_states.values, color='red', label='Bottom 10 States', s=100)\n",
    "plt.title(f'Average Hospital Overall Rating by State in week: {selected_week}')\n",
    "plt.xlabel('State')\n",
    "plt.ylabel('Average Hospital Overall Rating')\n",
    "plt.legend()\n",
    "plt.show()"
   ]
  }
 ],
 "metadata": {
  "language_info": {
   "name": "python"
  }
 },
 "nbformat": 4,
 "nbformat_minor": 2
}
